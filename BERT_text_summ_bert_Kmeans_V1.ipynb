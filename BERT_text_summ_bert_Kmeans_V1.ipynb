{
 "cells": [
  {
   "cell_type": "code",
   "execution_count": 1,
   "metadata": {},
   "outputs": [],
   "source": [
    "# Import nltk libraries for tokenizing\n",
    "import nltk\n",
    "from nltk.tokenize import sent_tokenize"
   ]
  },
  {
   "cell_type": "code",
   "execution_count": 20,
   "metadata": {},
   "outputs": [],
   "source": [
    "# import torch\n",
    "# from pytorch_pretrained_bert import BertTokenizer, BertModel, BertForMaskedLM"
   ]
  },
  {
   "cell_type": "code",
   "execution_count": 3,
   "metadata": {},
   "outputs": [],
   "source": [
    "# import sys"
   ]
  },
  {
   "cell_type": "code",
   "execution_count": 1,
   "metadata": {},
   "outputs": [],
   "source": [
    "# print(sys.path)"
   ]
  },
  {
   "cell_type": "code",
   "execution_count": 2,
   "metadata": {},
   "outputs": [],
   "source": [
    "#Downloaded model from Bert-as-service \n",
    "BERT_MODEL = 'uncased_L-12_H-768_A-12'"
   ]
  },
  {
   "cell_type": "code",
   "execution_count": 3,
   "metadata": {},
   "outputs": [
    {
     "data": {
      "text/plain": [
       "array([[ 0.13186471,  0.32404095, -0.8270434 , ..., -0.37119603,\n",
       "        -0.39250115, -0.3172188 ],\n",
       "       [ 0.2487349 , -0.12334448, -0.38933873, ..., -0.4475626 ,\n",
       "        -0.5591361 , -0.11345163],\n",
       "       [ 0.2862733 , -0.18580145, -0.30906862, ..., -0.2959366 ,\n",
       "        -0.39310566,  0.07640228]], dtype=float32)"
      ]
     },
     "execution_count": 3,
     "metadata": {},
     "output_type": "execute_result"
    }
   ],
   "source": [
    "#Initiating BERT client\n",
    "from bert_serving.client import BertClient\n",
    "bc = BertClient()\n",
    "bc.encode(['First do it', 'then do it right', 'then do it better'])"
   ]
  },
  {
   "cell_type": "code",
   "execution_count": 3,
   "metadata": {},
   "outputs": [
    {
     "name": "stderr",
     "output_type": "stream",
     "text": [
      "[nltk_data] Downloading package punkt to\n",
      "[nltk_data]     C:\\Users\\Sandeep\\AppData\\Roaming\\nltk_data...\n",
      "[nltk_data]   Unzipping tokenizers\\punkt.zip.\n"
     ]
    },
    {
     "data": {
      "text/plain": [
       "True"
      ]
     },
     "execution_count": 3,
     "metadata": {},
     "output_type": "execute_result"
    }
   ],
   "source": [
    "#One time download\n",
    "# nltk.download('punkt')"
   ]
  },
  {
   "cell_type": "code",
   "execution_count": 42,
   "metadata": {},
   "outputs": [],
   "source": [
    "#Function to read text data from txt files\n",
    "def read_article(file_name):\n",
    "    file = open(file_name, \"r\")\n",
    "    filedata = file.read()\n",
    "    sentences = sent_tokenize(filedata)\n",
    "#     sentences = [y for x in sentences for y in x] # flatten list    \n",
    "    return sentences"
   ]
  },
  {
   "cell_type": "code",
   "execution_count": 43,
   "metadata": {},
   "outputs": [],
   "source": [
    "#As an example I have take Wikipedia plot for Avengers End game. Although this itself is a concise summary of the plot, I wanted to run it for fun\n",
    "sentences = read_article('avengers_inf_synopsis.txt')\n",
    "# file_name = 'got_s08e03_full_text.txt'"
   ]
  },
  {
   "cell_type": "code",
   "execution_count": 44,
   "metadata": {
    "scrolled": true
   },
   "outputs": [],
   "source": [
    "#Since the model we downlaod is uncased\n",
    "clean_sentences = sentences\n",
    "sentences = [s.lower() for s in clean_sentences]"
   ]
  },
  {
   "cell_type": "code",
   "execution_count": 45,
   "metadata": {
    "scrolled": true
   },
   "outputs": [
    {
     "data": {
      "text/plain": [
       "[\"thanos and his children - proxima midnight, ebony maw, corvus glaive and cull obsidian - have attacked the asgardian ship in search of the space stone, which is housed in the tesseract that loki had stolen before asgard's destruction.\",\n",
       " \"with thanos already possessing the power stone after decimating xandar, thanos' army swiftly defeats the asgardians.\",\n",
       " \"after a futile counter-attack from the hulk, loki offers the tesseract to thanos in exchange for thor's life - only to be killed himself when thanos anticipates loki's attempt to betray and kill him.\",\n",
       " 'moments before glaive kills him, heimdall uses the power of the bifrost to send hulk to earth.',\n",
       " 'thanos and his children then depart just as the ship self-destructs, leaving a mourning thor behind and stranded in space.',\n",
       " \"hulk crash lands at the sanctum sanctorum and is reverted back to bruce banner, who informs stephen strange and wong about thanos' impending arrival.\",\n",
       " 'strange and banner retrieve tony stark and brief him about the infinity stones and thanos.',\n",
       " 'realizing they must find vision to protect the mind stone embedded in his head, stark realizes he must make contact with steve rogers to find vision, who has gone off the grid with wanda maximoff.',\n",
       " 'just then, maw and obsidian arrive in new york to seize the time stone from strange, and stark, strange, wong and peter parker confront them.',\n",
       " 'having been traumatized by his defeat at the hands of thanos, banner finds himself unable to transform into the hulk and help in the battle.',\n",
       " 'maw incapacitates and captures strange; stark and parker pursue his spaceship off earth while wong stays behind to protect the sanctorum and banner contacts the rest of the avengers.',\n",
       " 'in scotland, where wanda maximoff and vision have been hiding, the two are ambushed by midnight and glaive, but steve rogers, natasha romanoff and sam wilson fight them off.',\n",
       " 'they decide to seek shelter in the avengers facility in upstate new york, where they meet james rhodes, who is once again mobile with bionic leg braces.',\n",
       " 'vision proposes that maximoff destroy the stone in his forehead to keep thanos from retrieving it.',\n",
       " 'wanda immediately refuses however rogers suggests that they travel to the one place that has the technology to safely remove the stone from vision without killing him: wakanda.',\n",
       " \"thor is rescued by the guardians of the galaxy, who had picked up the asgardian ship's distress call.\",\n",
       " 'thor guesses that thanos would next be after the reality stone, which is in the possession of the collector in knowhere, but first he must retrieve a new weapon capable of killing thanos from the dwarven planet of nidavellir, where the only forge that can create such a weapon exists.',\n",
       " 'thor orders rocket with him to nidavellir, while peter quill, gamora, drax and mantis travel to knowhere.',\n",
       " 'on the way there, gamora talks to quill, making him promise to kill her if the situation presents itself.',\n",
       " 'quill reluctantly promises he will.',\n",
       " 'in knowhere, thanos ambushes the guardians, having already retrieved the reality stone and created an illusion of an intact knowhere to trap them.',\n",
       " 'he captures gamora after a crucial moment when gamora begs quill to kill her, using the space stone to escape.',\n",
       " 'thanos reveals that he knows that gamora already knows the location of the soul stone after prying information from a tortured nebula.',\n",
       " \"nebula escapes and signals the remaining guardians to meet her on titan, thanos' home world.\",\n",
       " \"thanos and gamora travel to the planet of the soul stone, vormir, where the red skull, the stone's keeper, informs him that retrieving the stone carries a heavy price: it can only be retrieved by sacrificing the life of someone he truly loves.\",\n",
       " 'despite his reluctance, thanos tearfully throws gamora off a tall cliff to her death and is granted the soul stone.',\n",
       " \"stark and parker rescue strange from maw's torture chamber, and launch maw out of the ship, killing him.\",\n",
       " \"strange believes they should retreat to protect the time stone but stark disagrees; he believes they should take the fight to thanos instead of retreating like they've done in the past.\",\n",
       " \"the three leave to confront thanos on titan, where they meet quill, drax and mantis and formulate a plan to remove thanos' gauntlet.\",\n",
       " \"while discussing their tactics, strange uses the time stone to view alternate futures, telling them he'd seen 14,000,605 of them, with only one where the avengers win.\",\n",
       " 'thanos teleports to titan, where, after a brief conversation with strange meant to distract him, the group engage thanos hand-to-hand and manage to subdue him.',\n",
       " 'mantis is able to calm thanos while peter and tony attempt to pry the gauntlet from his arm.',\n",
       " \"quill and nebula, who arrived on titan during the battle, deduce that gamora is dead; an enraged quill retaliates, hitting thanos and breaking the group's hold on him.\",\n",
       " 'thanos takes the gauntlet back and defeats the group, threatening to kill stark unless strange gives him the time stone.',\n",
       " 'strange does so and tells tony they\\'ve \"entered the end game.\"',\n",
       " 'thanos adds the stone to his gauntlet and departs titan.',\n",
       " 'thor, rocket and groot arrive at an abandoned and desolate nidavellir.',\n",
       " 'thor is puzzled that the giant forge is inactive.',\n",
       " 'the giant dwarf eitri tells them that thanos forced the dwarves to create his gauntlet; in return, thanos killed all the dwarves except for eitri.',\n",
       " \"after laboring to reactivate the forge and reignite the neutron star that powers it, the four create stormbreaker, a battle axe that serves as thor's new weapon and grants him the power of the bifrost.\",\n",
       " 'meanwhile, the avengers arrive in wakanda and task shuri with safely extracting the mind stone from vision.',\n",
       " \"thanos' outrider army arrives and begins attacking wakanda, and the avengers, alongside the united wakandan armies led by king t'challa, mount a defense against thanos' forces.\",\n",
       " \"glaive infiltrates shuri's lab and attacks vision.\",\n",
       " 'the outriders begin overwhelming the defending armies before thor, rocket and groot arrive to join the battle.',\n",
       " 'the tide seems to be turning for the avengers, midnight, obsidian and glaive are killed, but thanos arrives for the mind stone.',\n",
       " 'a tearful maximoff destroys the still-implanted mind stone in vision to prevent thanos from retrieving it, but thanos uses the time stone to reverse the event and pry out the mind stone from vision, killing him.',\n",
       " \"thor attacks and drives stormbreaker into thanos' chest, but thanos survives long enough to snap his fingers with the gauntlet.\",\n",
       " 'on a faraway world he finds gamora as a child.',\n",
       " 'when he confirms that he achieved his goal, she asks him what it cost.',\n",
       " 'his answer is \"everything.\"',\n",
       " 'back on earth, thor looks on in horror as thanos, his gauntlet now battered from the effort, teleports away.',\n",
       " \"thanos' goal of eradicating half of all life in the universe comes to fruition as people begin disintegrating; bucky barnes, groot, peter parker, quill, dr strange, t'challa, sam wilson, drax, mantis and wanda maximoff all dissolve into ash.\",\n",
       " \"in wakanda, only rogers, thor, banner, romanoff, james rhodes, rocket, okoye and m'baku remain of the heroes.\",\n",
       " 'on titan, only nebula and stark are left alive.',\n",
       " 'thanos awakens fully healed on another lush, green planet and serenely watches the sunset, smiling slightly, satisfied at having achieved his ultimate goal.',\n",
       " 'in a post-credits scene, the earth is in chaos as people begin dissolving into ash; driverless cars crash on the street and a helicopter is seen crashing into a skyscraper and exploding.',\n",
       " 'former s.h.i.e.l.d.',\n",
       " 'director nick fury and deputy director maria hill witness the scene on the street before they dissolve themselves.',\n",
       " 'before he vanishes, fury manages to send a final distress signal to captain marvel.']"
      ]
     },
     "execution_count": 45,
     "metadata": {},
     "output_type": "execute_result"
    }
   ],
   "source": [
    "sentences"
   ]
  },
  {
   "cell_type": "code",
   "execution_count": 46,
   "metadata": {},
   "outputs": [
    {
     "name": "stderr",
     "output_type": "stream",
     "text": [
      "C:\\Users\\Sandeep\\Anaconda3\\lib\\site-packages\\bert_serving\\client\\__init__.py:286: UserWarning: some of your sentences have more tokens than \"max_seq_len=25\" set on the server, as consequence you may get less-accurate or truncated embeddings.\n",
      "here is what you can do:\n",
      "- disable the length-check by create a new \"BertClient(check_length=False)\" when you do not want to display this warning\n",
      "- or, start a new server with a larger \"max_seq_len\"\n",
      "  '- or, start a new server with a larger \"max_seq_len\"' % self.length_limit)\n"
     ]
    }
   ],
   "source": [
    "#Getting the BERT encodings for all the sentences\n",
    "got_bert_encoded = bc.encode(sentences)"
   ]
  },
  {
   "cell_type": "code",
   "execution_count": 18,
   "metadata": {},
   "outputs": [],
   "source": [
    "# from nltk.cluster import KMeansClusterer\n",
    "# NUM_CLUSTERS=5\n",
    "# kclusterer = KMeansClusterer(NUM_CLUSTERS, distance = nltk.cluster.util.cosine_distance, repeats=25)\n",
    "# assigned_clusters = kclusterer.cluster(got_bert_encoded, assign_clusters = True)"
   ]
  },
  {
   "cell_type": "code",
   "execution_count": 19,
   "metadata": {
    "scrolled": true
   },
   "outputs": [],
   "source": [
    "# assigned_clusters"
   ]
  },
  {
   "cell_type": "code",
   "execution_count": 50,
   "metadata": {},
   "outputs": [],
   "source": [
    "# Clustering with Kmeans algorithm\n",
    "import numpy as np\n",
    "from sklearn.cluster import KMeans\n",
    "\n",
    "n_clusters = 5\n",
    "kmeans = KMeans(n_clusters=n_clusters, random_state=0)\n",
    "kmeans = kmeans.fit(got_bert_encoded)"
   ]
  },
  {
   "cell_type": "code",
   "execution_count": 53,
   "metadata": {},
   "outputs": [],
   "source": [
    "from sklearn.metrics import pairwise_distances_argmin_min\n",
    "\n",
    "avg = []\n",
    "for j in range(n_clusters):\n",
    "    idx = np.where(kmeans.labels_ == j)[0]\n",
    "    avg.append(np.mean(idx))\n",
    "closest, _ = pairwise_distances_argmin_min(kmeans.cluster_centers_, got_bert_encoded)\n",
    "ordering = sorted(range(n_clusters), key=lambda k: avg[k])\n",
    "summary = ' '.join([clean_sentences[closest[idx]] for idx in ordering])"
   ]
  },
  {
   "cell_type": "code",
   "execution_count": 54,
   "metadata": {},
   "outputs": [
    {
     "data": {
      "text/plain": [
       "\"The three leave to confront Thanos on Titan, where they meet Quill, Drax and Mantis and formulate a plan to remove Thanos' gauntlet. Vision proposes that Maximoff destroy the Stone in his forehead to keep Thanos from retrieving it. Thanos and his Children - Proxima Midnight, Ebony Maw, Corvus Glaive and Cull Obsidian - have attacked the Asgardian ship in search of the Space Stone, which is housed in the Tesseract that Loki had stolen before Asgard's destruction. While discussing their tactics, Strange uses the Time Stone to view alternate futures, telling them he'd seen 14,000,605 of them, with only one where the Avengers win. Former S.H.I.E.L.D.\""
      ]
     },
     "execution_count": 54,
     "metadata": {},
     "output_type": "execute_result"
    }
   ],
   "source": [
    "summary"
   ]
  },
  {
   "cell_type": "code",
   "execution_count": null,
   "metadata": {},
   "outputs": [],
   "source": []
  },
  {
   "cell_type": "code",
   "execution_count": null,
   "metadata": {},
   "outputs": [],
   "source": []
  }
 ],
 "metadata": {
  "kernelspec": {
   "display_name": "Python 3",
   "language": "python",
   "name": "python3"
  },
  "language_info": {
   "codemirror_mode": {
    "name": "ipython",
    "version": 3
   },
   "file_extension": ".py",
   "mimetype": "text/x-python",
   "name": "python",
   "nbconvert_exporter": "python",
   "pygments_lexer": "ipython3",
   "version": "3.7.2"
  }
 },
 "nbformat": 4,
 "nbformat_minor": 2
}
